{
 "cells": [
  {
   "cell_type": "markdown",
   "metadata": {},
   "source": [
    "# Extracting S&P 500 Tickers from Wikipedia\n",
    "\n",
    "This Python script extracts the list of tickers of S&P 500 companies from Wikipedia, processes the data, and saves it into a Parquet file. Below is the code commented."
   ]
  },
  {
   "cell_type": "markdown",
   "metadata": {},
   "source": [
    "## Library Imports"
   ]
  },
  {
   "cell_type": "code",
   "execution_count": 1,
   "metadata": {},
   "outputs": [],
   "source": [
    "# You can install the required packages using the following commands\n",
    "# %pip install pandas\n",
    "# %pip install lxml\n",
    "\n",
    "import pandas as pd"
   ]
  },
  {
   "cell_type": "code",
   "execution_count": 4,
   "metadata": {},
   "outputs": [
    {
     "name": "stdout",
     "output_type": "stream",
     "text": [
      "Total number of tickers: 503\n"
     ]
    }
   ],
   "source": [
    "# Wikipedia URL with the list of S&P 500\n",
    "url = \"https://en.wikipedia.org/wiki/List_of_S%26P_500_companies\"\n",
    "\n",
    "# Read tables from Wikipedia\n",
    "tables = pd.read_html(url)\n",
    "\n",
    "# Extract the first table containing the tickers\n",
    "df = tables[0]\n",
    "\n",
    "# Select only the 'Symbol' column and remove any duplicates\n",
    "df_tickers = df[['Symbol']].drop_duplicates()\n",
    "\n",
    "# Rename the 'Symbol' column to 'Ticker'\n",
    "df_tickers = df_tickers.rename(columns={'Symbol': 'Ticker'})\n",
    "\n",
    "# Sort the tickers alphabetically but maintain the index order\n",
    "df_tickers = df_tickers.sort_values(by='Ticker').reset_index(drop=True)\n",
    "\n",
    "# Get the total number of tickers\n",
    "total_tickers = df_tickers.shape[0]\n",
    "\n",
    "# Save as a Parquet file (for efficient storage and retrieval)\n",
    "df_tickers.to_parquet(\"sp500_tickers.parquet\", index=False)\n",
    "\n",
    "# Display results\n",
    "print(f\"Total number of tickers: {total_tickers}\")"
   ]
  },
  {
   "cell_type": "code",
   "execution_count": 5,
   "metadata": {},
   "outputs": [
    {
     "data": {
      "application/vnd.microsoft.datawrangler.viewer.v0+json": {
       "columns": [
        {
         "name": "index",
         "rawType": "int64",
         "type": "integer"
        },
        {
         "name": "Ticker",
         "rawType": "object",
         "type": "string"
        }
       ],
       "conversionMethod": "pd.DataFrame",
       "ref": "dc5ab40f-d1a6-4696-8ff7-af373a7b49ca",
       "rows": [
        [
         "0",
         "A"
        ],
        [
         "1",
         "AAPL"
        ],
        [
         "2",
         "ABBV"
        ],
        [
         "3",
         "ABNB"
        ],
        [
         "4",
         "ABT"
        ]
       ],
       "shape": {
        "columns": 1,
        "rows": 5
       }
      },
      "text/html": [
       "<div>\n",
       "<style scoped>\n",
       "    .dataframe tbody tr th:only-of-type {\n",
       "        vertical-align: middle;\n",
       "    }\n",
       "\n",
       "    .dataframe tbody tr th {\n",
       "        vertical-align: top;\n",
       "    }\n",
       "\n",
       "    .dataframe thead th {\n",
       "        text-align: right;\n",
       "    }\n",
       "</style>\n",
       "<table border=\"1\" class=\"dataframe\">\n",
       "  <thead>\n",
       "    <tr style=\"text-align: right;\">\n",
       "      <th></th>\n",
       "      <th>Ticker</th>\n",
       "    </tr>\n",
       "  </thead>\n",
       "  <tbody>\n",
       "    <tr>\n",
       "      <th>0</th>\n",
       "      <td>A</td>\n",
       "    </tr>\n",
       "    <tr>\n",
       "      <th>1</th>\n",
       "      <td>AAPL</td>\n",
       "    </tr>\n",
       "    <tr>\n",
       "      <th>2</th>\n",
       "      <td>ABBV</td>\n",
       "    </tr>\n",
       "    <tr>\n",
       "      <th>3</th>\n",
       "      <td>ABNB</td>\n",
       "    </tr>\n",
       "    <tr>\n",
       "      <th>4</th>\n",
       "      <td>ABT</td>\n",
       "    </tr>\n",
       "  </tbody>\n",
       "</table>\n",
       "</div>"
      ],
      "text/plain": [
       "  Ticker\n",
       "0      A\n",
       "1   AAPL\n",
       "2   ABBV\n",
       "3   ABNB\n",
       "4    ABT"
      ]
     },
     "execution_count": 5,
     "metadata": {},
     "output_type": "execute_result"
    }
   ],
   "source": [
    "df_tickers.head()"
   ]
  },
  {
   "cell_type": "code",
   "execution_count": null,
   "metadata": {},
   "outputs": [],
   "source": []
  }
 ],
 "metadata": {
  "kernelspec": {
   "display_name": "Python 3",
   "language": "python",
   "name": "python3"
  },
  "language_info": {
   "codemirror_mode": {
    "name": "ipython",
    "version": 3
   },
   "file_extension": ".py",
   "mimetype": "text/x-python",
   "name": "python",
   "nbconvert_exporter": "python",
   "pygments_lexer": "ipython3",
   "version": "3.13.0"
  }
 },
 "nbformat": 4,
 "nbformat_minor": 2
}
