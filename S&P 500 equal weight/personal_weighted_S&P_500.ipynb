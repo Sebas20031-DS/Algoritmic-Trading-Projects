{
 "cells": [
  {
   "cell_type": "markdown",
   "metadata": {},
   "source": [
    "# Equal-Weight S&P 500 Index Fund\n",
    "\n",
    "## Introduction & Library Imports\n",
    "\n",
    "The S&P 500 is the most widely followed stock market index in the world. The largest fund that tracks this index is the SPDR® S&P 500® ETF Trust, which has over $250 billion in assets under management.\n",
    "\n",
    "The goal of this project is to create a Python script that will take the value of your portfolio and calculate how many shares of each S&P 500 constituent you should buy in order to create an equal-weight version of the index fund. This notebook is based on the freeCodeCamp course \"Algorithmic Trading Using Python - Full Course\" which can be accessed at the following URL:\n",
    "\n",
    "https://www.youtube.com/watch?v=xfzGZB4HhEE\n",
    "\n",
    "## Library Imports\n",
    "\n",
    "The first thing we need to do is import the open-source software libraries that we'll be using in this tutorial."
   ]
  },
  {
   "cell_type": "code",
   "execution_count": 18,
   "metadata": {},
   "outputs": [],
   "source": [
    "# If you want to use this script, you need to install the following libraries\n",
    "# pip install numpy pandas yfinance\n",
    "\n",
    "import numpy as np\n",
    "import pandas as pd\n",
    "import yfinance as yf\n",
    "import openpyxl\n",
    "from openpyxl.styles import Font, Alignment, PatternFill"
   ]
  },
  {
   "cell_type": "markdown",
   "metadata": {},
   "source": [
    "## Importing Our List of Stocks\n",
    "\n",
    "The next thing we need to do is import the constituents of the S&P 500.\n",
    "\n",
    "These constituents change over time, so in an ideal world you would connect directly to the index provider (Standard & Poor's) and pull their real-time constituents on a regular basis.\n",
    "\n",
    "However, accessing the index provider's API requires a paid subscription, which is outside the scope of this project.\n",
    "\n",
    "To proceed, you have two options:\n",
    "\n",
    "1. **Run the extractor script**: If you want to obtain the most up-to-date list of S&P 500 tickers, you can run the `sp500_tickers_extractor.py` script. This script scrapes the data from Wikipedia and generates the latest `.parquet` file with the tickers [Click this link to download the script](https://github.com/Sebas20031-DS/Algoritmic-Trading-Projects/blob/main/S%26P%20500%20equal%20weight/sp500_tickers_extractor.ipynb).\n",
    "\n",
    "2. **Use the static version**: If you prefer to skip the scraping and work with pre-collected data, you can download the static `.parquet` file from the repository. The file will be available on GitHub. Simply download it and use it directly in your notebook (take into account that it may be outdated). [Click this link to download the static .parquet file](https://github.com/Sebas20031-DS/Algoritmic-Trading-Projects/blob/main/S%26P%20500%20equal%20weight/sp500_tickers.parquet)\n",
    "\n",
    "\n",
    "Once extracted or downloaded, move it to your project path so you can load the .parquet file into your Jupyter Notebook like this: "
   ]
  },
  {
   "cell_type": "code",
   "execution_count": 2,
   "metadata": {},
   "outputs": [],
   "source": [
    "stocks = pd.read_parquet('sp500_tickers.parquet')"
   ]
  },
  {
   "cell_type": "markdown",
   "metadata": {},
   "source": [
    "## Using yfinance to Fetch Stock Data\n",
    "\n",
    "This script demonstrates how to use the yfinance library to fetch the latest stock price and market capitalization for a given stock symbol.\n"
   ]
  },
  {
   "cell_type": "code",
   "execution_count": 3,
   "metadata": {},
   "outputs": [
    {
     "name": "stdout",
     "output_type": "stream",
     "text": [
      "Latest Price: 213.49000549316406\n",
      "Market Cap: 3207068385280\n"
     ]
    }
   ],
   "source": [
    "symbol = 'AAPL'\n",
    "stock = yf.Ticker(symbol)\n",
    "latest_price = stock.history(period=\"1d\")[\"Close\"].iloc[-1]\n",
    "market_cap = stock.info[\"marketCap\"] # Get market capitalization\n",
    "\n",
    "print(f\"Latest Price: {latest_price}\")\n",
    "print(f\"Market Cap: {market_cap}\")"
   ]
  },
  {
   "cell_type": "markdown",
   "metadata": {},
   "source": [
    "## Adding Our Stocks Data to a Pandas DataFrame\n",
    "\n",
    "The next thing we need to do is add our stock's price and market capitalization to a pandas DataFrame. Think of a DataFrame like the Python version of a spreadsheet. It stores tabular data."
   ]
  },
  {
   "cell_type": "code",
   "execution_count": 4,
   "metadata": {},
   "outputs": [],
   "source": [
    "my_columns = ['Ticker', 'Price', 'Market Capitalization']\n",
    "dataframe = pd.DataFrame(columns=my_columns)"
   ]
  },
  {
   "cell_type": "code",
   "execution_count": null,
   "metadata": {},
   "outputs": [
    {
     "name": "stderr",
     "output_type": "stream",
     "text": [
      "C:\\Users\\sebas\\AppData\\Local\\Temp\\ipykernel_161608\\1316518063.py:7: FutureWarning: The behavior of DataFrame concatenation with empty or all-NA entries is deprecated. In a future version, this will no longer exclude empty or all-NA columns when determining the result dtypes. To retain the old behavior, exclude the relevant entries before the concat operation.\n",
      "  dataframe = pd.concat([dataframe, new_row], ignore_index=True)\n"
     ]
    }
   ],
   "source": [
    "# Create a new row as a DataFrame\n",
    "new_row = pd.DataFrame([[symbol, latest_price, market_cap]], columns=my_columns)\n",
    "\n",
    "# The next line of code will give you a FutureWarning message (pandas version used in this project is 2.2.3)\n",
    "# you can check yours with print(pd.__version__)\n",
    "# Use pd.concat to add the new row\n",
    "dataframe = pd.concat([dataframe, new_row], ignore_index=True)\n",
    "\n",
    "dataframe"
   ]
  },
  {
   "cell_type": "markdown",
   "metadata": {},
   "source": [
    "## Looping Through The Tickers in Our List of Stocks\n",
    "\n",
    "Using the same logic that we outlined above, we can pull data for all S&P 500 stocks and store their data in the DataFrame using a `for` loop.\n",
    "\n",
    "**Warning:** While the approach works well for most stocks, there may be some tickers that do not return data due to various reasons, such as the stock being temporarily unavailable or incorrect ticker symbols. In such cases, we recommend implementing an exception handling mechanism to catch and manage these errors."
   ]
  },
  {
   "cell_type": "code",
   "execution_count": 6,
   "metadata": {},
   "outputs": [
    {
     "name": "stderr",
     "output_type": "stream",
     "text": [
      "C:\\Users\\sebas\\AppData\\Local\\Temp\\ipykernel_161608\\1388065216.py:23: FutureWarning: The behavior of DataFrame concatenation with empty or all-NA entries is deprecated. In a future version, this will no longer exclude empty or all-NA columns when determining the result dtypes. To retain the old behavior, exclude the relevant entries before the concat operation.\n",
      "  final_dataframe = pd.concat([final_dataframe, new_row], ignore_index=True)\n",
      "$BF.B: possibly delisted; no price data found  (period=1d)\n"
     ]
    },
    {
     "name": "stdout",
     "output_type": "stream",
     "text": [
      "Warning: No data found for BF.B. Skipping...\n"
     ]
    },
    {
     "name": "stderr",
     "output_type": "stream",
     "text": [
      "$BRK.B: possibly delisted; no price data found  (period=1d) (Yahoo error = \"No data found, symbol may be delisted\")\n"
     ]
    },
    {
     "name": "stdout",
     "output_type": "stream",
     "text": [
      "Warning: No data found for BRK.B. Skipping...\n"
     ]
    }
   ],
   "source": [
    "final_dataframe = pd.DataFrame(columns=my_columns)\n",
    "\n",
    "# Iterate over each stock in the list\n",
    "for stock in stocks['Ticker']:\n",
    "    try:\n",
    "        # Get ticker data\n",
    "        Ticker = yf.Ticker(stock)\n",
    "\n",
    "        # Get the latest price\n",
    "        history = Ticker.history(period=\"1d\")\n",
    "        if history.empty:  # If there is no data, skip to the next stock\n",
    "            print(f\"Warning: No data found for {stock}. Skipping...\")\n",
    "            continue\n",
    "        latest_price = history[\"Close\"].iloc[-1]\n",
    "\n",
    "        # Get market capitalization\n",
    "        market_cap = Ticker.info.get(\"marketCap\", \"N/A\")  # Use 'N/A' if no data is available\n",
    "\n",
    "        # Create a new DataFrame with the new row\n",
    "        new_row = pd.DataFrame([[stock, latest_price, market_cap]], columns=my_columns)\n",
    "\n",
    "        # Concatenate the new row without future compatibility issues\n",
    "        final_dataframe = pd.concat([final_dataframe, new_row], ignore_index=True)\n",
    "\n",
    "    except Exception as e:\n",
    "        print(f\"Error processing {stock}: {e}\")  # Print error message but continue"
   ]
  },
  {
   "cell_type": "code",
   "execution_count": 7,
   "metadata": {},
   "outputs": [
    {
     "data": {
      "application/vnd.microsoft.datawrangler.viewer.v0+json": {
       "columns": [
        {
         "name": "index",
         "rawType": "int64",
         "type": "integer"
        },
        {
         "name": "Ticker",
         "rawType": "object",
         "type": "string"
        },
        {
         "name": "Price",
         "rawType": "float64",
         "type": "float"
        },
        {
         "name": "Market Capitalization",
         "rawType": "object",
         "type": "unknown"
        }
       ],
       "conversionMethod": "pd.DataFrame",
       "ref": "a6ed1586-88a9-4407-9e4f-7091df50d6cb",
       "rows": [
        [
         "0",
         "A",
         "121.18000030517578",
         "34548781056"
        ],
        [
         "1",
         "AAPL",
         "213.49000549316406",
         "3207068385280"
        ],
        [
         "2",
         "ABBV",
         "211.77000427246094",
         "373848178688"
        ],
        [
         "3",
         "ABNB",
         "122.86000061035156",
         "76337840128"
        ],
        [
         "4",
         "ABT",
         "126.70999908447266",
         "219755692032"
        ],
        [
         "5",
         "ACGL",
         "92.56999969482422",
         "34746798080"
        ],
        [
         "6",
         "ACN",
         "318.82000732421875",
         "199415545856"
        ],
        [
         "7",
         "ADBE",
         "394.739990234375",
         "171671240704"
        ],
        [
         "8",
         "ADI",
         "208.75",
         "103534993408"
        ],
        [
         "9",
         "ADM",
         "47.18000030517578",
         "22632577024"
        ],
        [
         "10",
         "ADP",
         "291.760009765625",
         "118708690944"
        ],
        [
         "11",
         "ADSK",
         "254.42999267578125",
         "54193590272"
        ],
        [
         "12",
         "AEE",
         "99.12000274658203",
         "26753081344"
        ],
        [
         "13",
         "AEP",
         "105.55999755859375",
         "56336527360"
        ],
        [
         "14",
         "AES",
         "12.3100004196167",
         "8763501568"
        ],
        [
         "15",
         "AFL",
         "107.25",
         "58621566976"
        ],
        [
         "16",
         "AIG",
         "83.12999725341797",
         "49323769856"
        ],
        [
         "17",
         "AIZ",
         "211.1999969482422",
         "10727248896"
        ],
        [
         "18",
         "AJG",
         "325.239990234375",
         "82838626304"
        ],
        [
         "19",
         "AKAM",
         "80.7300033569336",
         "12135173120"
        ],
        [
         "20",
         "ALB",
         "75.2300033569336",
         "8845017088"
        ],
        [
         "21",
         "ALGN",
         "166.1999969482422",
         "12231920640"
        ],
        [
         "22",
         "ALL",
         "207.49000549316406",
         "54990245888"
        ],
        [
         "23",
         "ALLE",
         "126.66000366210938",
         "10929542144"
        ],
        [
         "24",
         "AMAT",
         "155.66000366210938",
         "126464573440"
        ],
        [
         "25",
         "AMCR",
         "9.779999732971191",
         "14135425024"
        ],
        [
         "26",
         "AMD",
         "100.97000122070312",
         "163619864576"
        ],
        [
         "27",
         "AME",
         "176.13999938964844",
         "40643776512"
        ],
        [
         "28",
         "AMGN",
         "313.7099914550781",
         "168526577664"
        ],
        [
         "29",
         "AMP",
         "485.8299865722656",
         "48724373504"
        ],
        [
         "30",
         "AMT",
         "210.92999267578125",
         "98600697856"
        ],
        [
         "31",
         "AMZN",
         "197.9499969482422",
         "2097814568960"
        ],
        [
         "32",
         "ANET",
         "83.51000213623047",
         "105316130816"
        ],
        [
         "33",
         "ANSS",
         "322.67999267578125",
         "28283482112"
        ],
        [
         "34",
         "AON",
         "398.7900085449219",
         "86139035648"
        ],
        [
         "35",
         "AOS",
         "66.8499984741211",
         "9594912768"
        ],
        [
         "36",
         "APA",
         "19.610000610351562",
         "7139295232"
        ],
        [
         "37",
         "APD",
         "291.9200134277344",
         "64945197056"
        ],
        [
         "38",
         "APH",
         "63.0",
         "76298035200"
        ],
        [
         "39",
         "APO",
         "134.32000732421875",
         "76626878464"
        ],
        [
         "40",
         "APTV",
         "63.22999954223633",
         "14507870208"
        ],
        [
         "41",
         "ARE",
         "99.16000366210938",
         "17163803648"
        ],
        [
         "42",
         "ATO",
         "149.88999938964844",
         "23791738880"
        ],
        [
         "43",
         "AVB",
         "209.6300048828125",
         "29820917760"
        ],
        [
         "44",
         "AVGO",
         "195.5399932861328",
         "919419289600"
        ],
        [
         "45",
         "AVY",
         "178.63999938964844",
         "14106485760"
        ],
        [
         "46",
         "AWK",
         "144.32000732421875",
         "28134754304"
        ],
        [
         "47",
         "AXON",
         "556.260009765625",
         "42622476288"
        ],
        [
         "48",
         "AXP",
         "265.6300048828125",
         "186235863040"
        ],
        [
         "49",
         "AZO",
         "3554.909912109375",
         "59534077952"
        ]
       ],
       "shape": {
        "columns": 3,
        "rows": 501
       }
      },
      "text/html": [
       "<div>\n",
       "<style scoped>\n",
       "    .dataframe tbody tr th:only-of-type {\n",
       "        vertical-align: middle;\n",
       "    }\n",
       "\n",
       "    .dataframe tbody tr th {\n",
       "        vertical-align: top;\n",
       "    }\n",
       "\n",
       "    .dataframe thead th {\n",
       "        text-align: right;\n",
       "    }\n",
       "</style>\n",
       "<table border=\"1\" class=\"dataframe\">\n",
       "  <thead>\n",
       "    <tr style=\"text-align: right;\">\n",
       "      <th></th>\n",
       "      <th>Ticker</th>\n",
       "      <th>Price</th>\n",
       "      <th>Market Capitalization</th>\n",
       "    </tr>\n",
       "  </thead>\n",
       "  <tbody>\n",
       "    <tr>\n",
       "      <th>0</th>\n",
       "      <td>A</td>\n",
       "      <td>121.180000</td>\n",
       "      <td>34548781056</td>\n",
       "    </tr>\n",
       "    <tr>\n",
       "      <th>1</th>\n",
       "      <td>AAPL</td>\n",
       "      <td>213.490005</td>\n",
       "      <td>3207068385280</td>\n",
       "    </tr>\n",
       "    <tr>\n",
       "      <th>2</th>\n",
       "      <td>ABBV</td>\n",
       "      <td>211.770004</td>\n",
       "      <td>373848178688</td>\n",
       "    </tr>\n",
       "    <tr>\n",
       "      <th>3</th>\n",
       "      <td>ABNB</td>\n",
       "      <td>122.860001</td>\n",
       "      <td>76337840128</td>\n",
       "    </tr>\n",
       "    <tr>\n",
       "      <th>4</th>\n",
       "      <td>ABT</td>\n",
       "      <td>126.709999</td>\n",
       "      <td>219755692032</td>\n",
       "    </tr>\n",
       "    <tr>\n",
       "      <th>...</th>\n",
       "      <td>...</td>\n",
       "      <td>...</td>\n",
       "      <td>...</td>\n",
       "    </tr>\n",
       "    <tr>\n",
       "      <th>496</th>\n",
       "      <td>XYL</td>\n",
       "      <td>122.760002</td>\n",
       "      <td>29836326912</td>\n",
       "    </tr>\n",
       "    <tr>\n",
       "      <th>497</th>\n",
       "      <td>YUM</td>\n",
       "      <td>155.050003</td>\n",
       "      <td>43274768384</td>\n",
       "    </tr>\n",
       "    <tr>\n",
       "      <th>498</th>\n",
       "      <td>ZBH</td>\n",
       "      <td>109.970001</td>\n",
       "      <td>21890959360</td>\n",
       "    </tr>\n",
       "    <tr>\n",
       "      <th>499</th>\n",
       "      <td>ZBRA</td>\n",
       "      <td>278.970001</td>\n",
       "      <td>14333255680</td>\n",
       "    </tr>\n",
       "    <tr>\n",
       "      <th>500</th>\n",
       "      <td>ZTS</td>\n",
       "      <td>161.259995</td>\n",
       "      <td>72210931712</td>\n",
       "    </tr>\n",
       "  </tbody>\n",
       "</table>\n",
       "<p>501 rows × 3 columns</p>\n",
       "</div>"
      ],
      "text/plain": [
       "    Ticker       Price Market Capitalization\n",
       "0        A  121.180000           34548781056\n",
       "1     AAPL  213.490005         3207068385280\n",
       "2     ABBV  211.770004          373848178688\n",
       "3     ABNB  122.860001           76337840128\n",
       "4      ABT  126.709999          219755692032\n",
       "..     ...         ...                   ...\n",
       "496    XYL  122.760002           29836326912\n",
       "497    YUM  155.050003           43274768384\n",
       "498    ZBH  109.970001           21890959360\n",
       "499   ZBRA  278.970001           14333255680\n",
       "500    ZTS  161.259995           72210931712\n",
       "\n",
       "[501 rows x 3 columns]"
      ]
     },
     "execution_count": 7,
     "metadata": {},
     "output_type": "execute_result"
    }
   ],
   "source": [
    "final_dataframe"
   ]
  },
  {
   "cell_type": "markdown",
   "metadata": {},
   "source": [
    "## Calculating the Number of Shares to Buy\n",
    "\n",
    "As you can see in the DataFrame above, we still have not calculated the weight of each stock and the number of shares of each stock to buy.\n",
    "\n",
    "### **How the S&P 500 Weighs Stocks**\n",
    "\n",
    "The **S&P 500 Index** is a **market-capitalization-weighted index**, meaning that the weight of each stock is determined by its **market capitalization** (the total value of a company's outstanding shares). This ensures that larger companies have a greater influence on the index performance.\n",
    "\n",
    "#### **1. Calculating Each Stock's Market Cap**\n",
    "Each stock's **market capitalization** is calculated as:\n",
    "\n",
    "$$\n",
    "\\text{Market Cap} = \\text{Stock Price} \\times \\text{Shares Outstanding}\n",
    "$$\n",
    "\n",
    "Where:\n",
    "- **Stock Price**: The latest price of the stock.\n",
    "- **Shares Outstanding**: The total number of shares issued by the company.\n",
    "\n",
    "#### **2. Summing Up All Market Caps**\n",
    "The total market capitalization of the S&P 500 is the sum of all individual market caps:\n",
    "\n",
    "$$\n",
    "\\text{Total Market Cap} = \\sum_{i=1}^{500} \\text{Market Cap}_i\n",
    "$$\n",
    "\n",
    "#### **3. Calculating Each Stock’s Weight in the Index**\n",
    "Each stock's weight in the index is determined by:\n",
    "\n",
    "$$\n",
    "\\text{Weight} = \\frac{\\text{Stock Market Cap}}{\\text{Total Market Cap}}\n",
    "$$\n",
    "\n",
    "This means that companies with **higher market capitalization have a greater impact** on the index.\n",
    "\n",
    "#### **4. Determining Position Size in a Portfolio**\n",
    "If an investor wants to replicate the S&P 500 using a **personal portfolio**, they need to allocate funds to each stock based on its weight. Given a **portfolio size (P)**, the **position size** for each stock is:\n",
    "\n",
    "$$\n",
    "\\text{Position Size} = \\text{Weight} \\times P\n",
    "$$\n",
    "\n",
    "This determines how much money should be invested in each stock.\n",
    "\n",
    "#### **5. Calculating the Number of Shares to Buy**\n",
    "Once the **position size** is known, the **number of shares to buy** is:\n",
    "\n",
    "$$\n",
    "\\text{Shares to Buy} = \\frac{\\text{Position Size}}{\\text{Stock Price}}\n",
    "$$\n",
    "\n",
    "Since shares cannot be fractional in most cases, the number of shares is typically rounded down to the nearest whole number.\n"
   ]
  },
  {
   "cell_type": "code",
   "execution_count": 32,
   "metadata": {},
   "outputs": [
    {
     "data": {
      "application/vnd.microsoft.datawrangler.viewer.v0+json": {
       "columns": [
        {
         "name": "index",
         "rawType": "int64",
         "type": "integer"
        },
        {
         "name": "Ticker",
         "rawType": "object",
         "type": "string"
        },
        {
         "name": "Price",
         "rawType": "float64",
         "type": "float"
        },
        {
         "name": "Market Capitalization",
         "rawType": "object",
         "type": "unknown"
        },
        {
         "name": "Weight",
         "rawType": "object",
         "type": "unknown"
        },
        {
         "name": "Position Size ($)",
         "rawType": "object",
         "type": "unknown"
        },
        {
         "name": "Shares to Buy",
         "rawType": "object",
         "type": "unknown"
        },
        {
         "name": "Shares to Buy (Round)",
         "rawType": "int64",
         "type": "integer"
        }
       ],
       "conversionMethod": "pd.DataFrame",
       "ref": "0ade9809-ad82-431c-b50b-7ae45abc5d3c",
       "rows": [
        [
         "0",
         "A",
         "121.18000030517578",
         "34548781056",
         "0.000670473998862586",
         "670.473998862586",
         "5.532876689008797",
         "5"
        ],
        [
         "1",
         "AAPL",
         "213.49000549316406",
         "3207068385280",
         "0.06223825846182867",
         "62238.25846182867",
         "291.5277383503629",
         "291"
        ],
        [
         "2",
         "ABBV",
         "211.77000427246094",
         "373848178688",
         "0.007255118000433975",
         "7255.118000433976",
         "34.259422269735715",
         "34"
        ],
        [
         "3",
         "ABNB",
         "122.86000061035156",
         "76337840128",
         "0.001481457098361628",
         "1481.457098361628",
         "12.05809125021938",
         "12"
        ],
        [
         "4",
         "ABT",
         "126.70999908447266",
         "219755692032",
         "0.004264708424030541",
         "4264.70842403054",
         "33.65723664150155",
         "33"
        ],
        [
         "5",
         "ACGL",
         "92.56999969482422",
         "34746798080",
         "0.0006743168338879071",
         "674.316833887907",
         "7.284399223408547",
         "7"
        ],
        [
         "6",
         "ACN",
         "318.82000732421875",
         "199415545856",
         "0.00386997556436851",
         "3869.9755643685103",
         "12.138433835593643",
         "12"
        ],
        [
         "7",
         "ADBE",
         "394.739990234375",
         "171671240704",
         "0.003331553233613233",
         "3331.5532336132333",
         "8.439867548345278",
         "8"
        ],
        [
         "8",
         "ADI",
         "208.75",
         "103534993408",
         "0.002009261077545822",
         "2009.2610775458218",
         "9.625202766686572",
         "9"
        ],
        [
         "9",
         "ADM",
         "47.18000030517578",
         "22632577024",
         "0.0004392211232358786",
         "439.22112323587857",
         "9.309476905359299",
         "9"
        ],
        [
         "10",
         "ADP",
         "291.760009765625",
         "118708690944",
         "0.0023037307911951393",
         "2303.7307911951393",
         "7.895978592288091",
         "7"
        ],
        [
         "11",
         "ADSK",
         "254.42999267578125",
         "54193590272",
         "0.0010517127398356678",
         "1051.7127398356677",
         "4.133603624223106",
         "4"
        ],
        [
         "12",
         "AEE",
         "99.12000274658203",
         "26753081344",
         "0.0005191860575785092",
         "519.1860575785091",
         "5.2379544309124055",
         "5"
        ],
        [
         "13",
         "AEP",
         "105.55999755859375",
         "56336527360",
         "0.0010932998394318424",
         "1093.2998394318424",
         "10.357141575576284",
         "10"
        ],
        [
         "14",
         "AES",
         "12.3100004196167",
         "8763501568",
         "0.00017006967426178075",
         "170.06967426178076",
         "13.81557014334174",
         "13"
        ],
        [
         "15",
         "AFL",
         "107.25",
         "58621566976",
         "0.0011376446644031095",
         "1137.6446644031096",
         "10.607409458304051",
         "10"
        ],
        [
         "16",
         "AIG",
         "83.12999725341797",
         "49323769856",
         "0.0009572061358901968",
         "957.2061358901968",
         "11.514569559917078",
         "11"
        ],
        [
         "17",
         "AIZ",
         "211.1999969482422",
         "10727248896",
         "0.00020817931180950607",
         "208.17931180950606",
         "0.9856975133409855",
         "0"
        ],
        [
         "18",
         "AJG",
         "325.239990234375",
         "82838626304",
         "0.001607615184694934",
         "1607.615184694934",
         "4.942858298379765",
         "4"
        ],
        [
         "19",
         "AKAM",
         "80.7300033569336",
         "12135173120",
         "0.0002355023187494816",
         "235.5023187494816",
         "2.917159778976464",
         "2"
        ],
        [
         "20",
         "ALB",
         "75.2300033569336",
         "8845017088",
         "0.00017165161246605992",
         "171.65161246605993",
         "2.2816908787262418",
         "2"
        ],
        [
         "21",
         "ALGN",
         "166.1999969482422",
         "12231920640",
         "0.00023737985811937413",
         "237.37985811937415",
         "1.4282783542607327",
         "1"
        ],
        [
         "22",
         "ALL",
         "207.49000549316406",
         "54990245888",
         "0.0010671731080527135",
         "1067.1731080527136",
         "5.143250661718608",
         "5"
        ],
        [
         "23",
         "ALLE",
         "126.66000366210938",
         "10929542144",
         "0.0002121051337570189",
         "212.1051337570189",
         "1.6746023024194072",
         "1"
        ],
        [
         "24",
         "AMAT",
         "155.66000366210938",
         "126464573440",
         "0.0024542460161280422",
         "2454.2460161280424",
         "15.766709227731136",
         "15"
        ],
        [
         "25",
         "AMCR",
         "9.779999732971191",
         "14135425024",
         "0.0002743203856049683",
         "274.3203856049683",
         "28.049119948352903",
         "28"
        ],
        [
         "26",
         "AMD",
         "100.97000122070312",
         "163619864576",
         "0.0031753034851738616",
         "3175.3034851738616",
         "31.447988974796505",
         "31"
        ],
        [
         "27",
         "AME",
         "176.13999938964844",
         "40643776512",
         "0.000788757071420479",
         "788.757071420479",
         "4.478012229781087",
         "4"
        ],
        [
         "28",
         "AMGN",
         "313.7099914550781",
         "168526577664",
         "0.0032705260500467087",
         "3270.526050046709",
         "10.42531681849551",
         "10"
        ],
        [
         "29",
         "AMP",
         "485.8299865722656",
         "48724373504",
         "0.0009455738971614938",
         "945.5738971614937",
         "1.9463061632587035",
         "1"
        ],
        [
         "30",
         "AMT",
         "210.92999267578125",
         "98600697856",
         "0.0019135032311269604",
         "1913.5032311269604",
         "9.07174559128815",
         "9"
        ],
        [
         "31",
         "AMZN",
         "197.9499969482422",
         "2097814568960",
         "0.0407114254086986",
         "40711.4254086986",
         "205.66519846597106",
         "205"
        ],
        [
         "32",
         "ANET",
         "83.51000213623047",
         "105316130816",
         "0.002043826879405222",
         "2043.8268794052221",
         "24.474036967106198",
         "24"
        ],
        [
         "33",
         "ANSS",
         "322.67999267578125",
         "28283482112",
         "0.0005488859164858363",
         "548.8859164858362",
         "1.701022464808779",
         "1"
        ],
        [
         "34",
         "AON",
         "398.7900085449219",
         "86139035648",
         "0.0016716648727915513",
         "1671.6648727915513",
         "4.191842415739074",
         "4"
        ],
        [
         "35",
         "AOS",
         "66.8499984741211",
         "9594912768",
         "0.00018620452981745402",
         "186.20452981745402",
         "2.785408138633501",
         "2"
        ],
        [
         "36",
         "APA",
         "19.610000610351562",
         "7139295232",
         "0.00013854936923826251",
         "138.54936923826253",
         "7.065240434777256",
         "7"
        ],
        [
         "37",
         "APD",
         "291.9200134277344",
         "64945197056",
         "0.0012603647551696407",
         "1260.3647551696408",
         "4.3175003329521555",
         "4"
        ],
        [
         "38",
         "APH",
         "63.0",
         "76298035200",
         "0.0014806846204786213",
         "1480.6846204786214",
         "23.50293048378764",
         "23"
        ],
        [
         "39",
         "APO",
         "134.32000732421875",
         "76626878464",
         "0.0014870663465909183",
         "1487.0663465909183",
         "11.071071065395861",
         "11"
        ],
        [
         "40",
         "APTV",
         "63.22999954223633",
         "14507870208",
         "0.00028154827626394207",
         "281.54827626394206",
         "4.452764167361312",
         "4"
        ],
        [
         "41",
         "ARE",
         "99.16000366210938",
         "17163803648",
         "0.00033309088528807166",
         "333.09088528807166",
         "3.3591253830837746",
         "3"
        ],
        [
         "42",
         "ATO",
         "149.88999938964844",
         "23791738880",
         "0.00046171650110931375",
         "461.71650110931375",
         "3.0803689571647324",
         "3"
        ],
        [
         "43",
         "AVB",
         "209.6300048828125",
         "29820917760",
         "0.0005787222984188953",
         "578.7222984188953",
         "2.7606844675809317",
         "2"
        ],
        [
         "44",
         "AVGO",
         "195.5399932861328",
         "919419289600",
         "0.01784279239057128",
         "17842.79239057128",
         "91.24881355837013",
         "91"
        ],
        [
         "45",
         "AVY",
         "178.63999938964844",
         "14106485760",
         "0.0002737587731988238",
         "273.7587731988238",
         "1.5324606702539385",
         "1"
        ],
        [
         "46",
         "AWK",
         "144.32000732421875",
         "28134754304",
         "0.0005459996170239191",
         "545.9996170239191",
         "3.7832565778445146",
         "3"
        ],
        [
         "47",
         "AXON",
         "556.260009765625",
         "42622476288",
         "0.0008271568849830135",
         "827.1568849830136",
         "1.4869968548188974",
         "1"
        ],
        [
         "48",
         "AXP",
         "265.6300048828125",
         "186235863040",
         "0.003614202875107469",
         "3614.202875107469",
         "13.606154457972247",
         "13"
        ],
        [
         "49",
         "AZO",
         "3554.909912109375",
         "59534077952",
         "0.001155353389990071",
         "1155.353389990071",
         "0.3250021571726749",
         "0"
        ]
       ],
       "shape": {
        "columns": 7,
        "rows": 501
       }
      },
      "text/html": [
       "<div>\n",
       "<style scoped>\n",
       "    .dataframe tbody tr th:only-of-type {\n",
       "        vertical-align: middle;\n",
       "    }\n",
       "\n",
       "    .dataframe tbody tr th {\n",
       "        vertical-align: top;\n",
       "    }\n",
       "\n",
       "    .dataframe thead th {\n",
       "        text-align: right;\n",
       "    }\n",
       "</style>\n",
       "<table border=\"1\" class=\"dataframe\">\n",
       "  <thead>\n",
       "    <tr style=\"text-align: right;\">\n",
       "      <th></th>\n",
       "      <th>Ticker</th>\n",
       "      <th>Price</th>\n",
       "      <th>Market Capitalization</th>\n",
       "      <th>Weight</th>\n",
       "      <th>Position Size ($)</th>\n",
       "      <th>Shares to Buy</th>\n",
       "      <th>Shares to Buy (Round)</th>\n",
       "    </tr>\n",
       "  </thead>\n",
       "  <tbody>\n",
       "    <tr>\n",
       "      <th>0</th>\n",
       "      <td>A</td>\n",
       "      <td>121.180000</td>\n",
       "      <td>34548781056</td>\n",
       "      <td>0.00067</td>\n",
       "      <td>670.473999</td>\n",
       "      <td>5.532877</td>\n",
       "      <td>5</td>\n",
       "    </tr>\n",
       "    <tr>\n",
       "      <th>1</th>\n",
       "      <td>AAPL</td>\n",
       "      <td>213.490005</td>\n",
       "      <td>3207068385280</td>\n",
       "      <td>0.062238</td>\n",
       "      <td>62238.258462</td>\n",
       "      <td>291.527738</td>\n",
       "      <td>291</td>\n",
       "    </tr>\n",
       "    <tr>\n",
       "      <th>2</th>\n",
       "      <td>ABBV</td>\n",
       "      <td>211.770004</td>\n",
       "      <td>373848178688</td>\n",
       "      <td>0.007255</td>\n",
       "      <td>7255.118</td>\n",
       "      <td>34.259422</td>\n",
       "      <td>34</td>\n",
       "    </tr>\n",
       "    <tr>\n",
       "      <th>3</th>\n",
       "      <td>ABNB</td>\n",
       "      <td>122.860001</td>\n",
       "      <td>76337840128</td>\n",
       "      <td>0.001481</td>\n",
       "      <td>1481.457098</td>\n",
       "      <td>12.058091</td>\n",
       "      <td>12</td>\n",
       "    </tr>\n",
       "    <tr>\n",
       "      <th>4</th>\n",
       "      <td>ABT</td>\n",
       "      <td>126.709999</td>\n",
       "      <td>219755692032</td>\n",
       "      <td>0.004265</td>\n",
       "      <td>4264.708424</td>\n",
       "      <td>33.657237</td>\n",
       "      <td>33</td>\n",
       "    </tr>\n",
       "    <tr>\n",
       "      <th>...</th>\n",
       "      <td>...</td>\n",
       "      <td>...</td>\n",
       "      <td>...</td>\n",
       "      <td>...</td>\n",
       "      <td>...</td>\n",
       "      <td>...</td>\n",
       "      <td>...</td>\n",
       "    </tr>\n",
       "    <tr>\n",
       "      <th>496</th>\n",
       "      <td>XYL</td>\n",
       "      <td>122.760002</td>\n",
       "      <td>29836326912</td>\n",
       "      <td>0.000579</td>\n",
       "      <td>579.021338</td>\n",
       "      <td>4.716694</td>\n",
       "      <td>4</td>\n",
       "    </tr>\n",
       "    <tr>\n",
       "      <th>497</th>\n",
       "      <td>YUM</td>\n",
       "      <td>155.050003</td>\n",
       "      <td>43274768384</td>\n",
       "      <td>0.00084</td>\n",
       "      <td>839.81565</td>\n",
       "      <td>5.416418</td>\n",
       "      <td>5</td>\n",
       "    </tr>\n",
       "    <tr>\n",
       "      <th>498</th>\n",
       "      <td>ZBH</td>\n",
       "      <td>109.970001</td>\n",
       "      <td>21890959360</td>\n",
       "      <td>0.000425</td>\n",
       "      <td>424.828854</td>\n",
       "      <td>3.863134</td>\n",
       "      <td>3</td>\n",
       "    </tr>\n",
       "    <tr>\n",
       "      <th>499</th>\n",
       "      <td>ZBRA</td>\n",
       "      <td>278.970001</td>\n",
       "      <td>14333255680</td>\n",
       "      <td>0.000278</td>\n",
       "      <td>278.159604</td>\n",
       "      <td>0.997095</td>\n",
       "      <td>0</td>\n",
       "    </tr>\n",
       "    <tr>\n",
       "      <th>500</th>\n",
       "      <td>ZTS</td>\n",
       "      <td>161.259995</td>\n",
       "      <td>72210931712</td>\n",
       "      <td>0.001401</td>\n",
       "      <td>1401.367882</td>\n",
       "      <td>8.690115</td>\n",
       "      <td>8</td>\n",
       "    </tr>\n",
       "  </tbody>\n",
       "</table>\n",
       "<p>501 rows × 7 columns</p>\n",
       "</div>"
      ],
      "text/plain": [
       "    Ticker       Price Market Capitalization    Weight Position Size ($)  \\\n",
       "0        A  121.180000           34548781056   0.00067        670.473999   \n",
       "1     AAPL  213.490005         3207068385280  0.062238      62238.258462   \n",
       "2     ABBV  211.770004          373848178688  0.007255          7255.118   \n",
       "3     ABNB  122.860001           76337840128  0.001481       1481.457098   \n",
       "4      ABT  126.709999          219755692032  0.004265       4264.708424   \n",
       "..     ...         ...                   ...       ...               ...   \n",
       "496    XYL  122.760002           29836326912  0.000579        579.021338   \n",
       "497    YUM  155.050003           43274768384   0.00084         839.81565   \n",
       "498    ZBH  109.970001           21890959360  0.000425        424.828854   \n",
       "499   ZBRA  278.970001           14333255680  0.000278        278.159604   \n",
       "500    ZTS  161.259995           72210931712  0.001401       1401.367882   \n",
       "\n",
       "    Shares to Buy  Shares to Buy (Round)  \n",
       "0        5.532877                      5  \n",
       "1      291.527738                    291  \n",
       "2       34.259422                     34  \n",
       "3       12.058091                     12  \n",
       "4       33.657237                     33  \n",
       "..            ...                    ...  \n",
       "496      4.716694                      4  \n",
       "497      5.416418                      5  \n",
       "498      3.863134                      3  \n",
       "499      0.997095                      0  \n",
       "500      8.690115                      8  \n",
       "\n",
       "[501 rows x 7 columns]"
      ]
     },
     "execution_count": 32,
     "metadata": {},
     "output_type": "execute_result"
    }
   ],
   "source": [
    "# Calculate total market capitalization (sum of all individual market caps)\n",
    "total_market_cap = final_dataframe[\"Market Capitalization\"].sum()\n",
    "\n",
    "# Calculate weight of each stock in the index\n",
    "final_dataframe[\"Weight\"] = final_dataframe[\"Market Capitalization\"] / total_market_cap\n",
    "\n",
    "# Get portfolio size from user\n",
    "while True:\n",
    "    portafolio_size = input(\"Enter the value of your portfolio: \")\n",
    "    try:\n",
    "        val = float(portafolio_size)\n",
    "        if val > 0:\n",
    "            break\n",
    "        else:\n",
    "            print(\"Please enter a positive number greater than 0.\")\n",
    "    except ValueError:\n",
    "        print(\"That's not a number! Please try again.\")\n",
    "\n",
    "# Calculate the dollar amount to allocate to each stock\n",
    "final_dataframe[\"Position Size ($)\"] = final_dataframe[\"Weight\"] * val\n",
    "\n",
    "# Calculate the number of shares to buy for each stock\n",
    "final_dataframe[\"Shares to Buy\"] = final_dataframe[\"Position Size ($)\"] / final_dataframe[\"Price\"]\n",
    "final_dataframe[\"Shares to Buy (Round)\"] = final_dataframe[\"Shares to Buy\"].astype(int)  # Convert to whole shares\n",
    "\n",
    "final_dataframe"
   ]
  },
  {
   "cell_type": "markdown",
   "metadata": {},
   "source": [
    "## **Saving the Final DataFrame to an Excel File with Formatting**\n",
    "\n",
    "After calculating the recommended trades, the next step is to **save the results in an Excel file** for better readability and record-keeping."
   ]
  },
  {
   "cell_type": "code",
   "execution_count": 33,
   "metadata": {},
   "outputs": [
    {
     "name": "stdout",
     "output_type": "stream",
     "text": [
      "Excel file 'Recommended_Trades_for_Portfolio_1000000.xlsx' saved successfully!\n"
     ]
    }
   ],
   "source": [
    "# Define the filename dynamically based on the portfolio size\n",
    "filename = f\"Recommended_Trades_for_Portfolio_{int(val)}.xlsx\"\n",
    "\n",
    "# Save the DataFrame to an Excel file\n",
    "with pd.ExcelWriter(filename, engine='openpyxl') as writer:\n",
    "    final_dataframe.to_excel(writer, sheet_name=\"Trades\", index=False)\n",
    "\n",
    "    # Access the workbook and worksheet\n",
    "    workbook = writer.book\n",
    "    worksheet = writer.sheets[\"Trades\"]\n",
    "\n",
    "    # Formatting: Adjust column width and apply styles\n",
    "    for col in worksheet.columns:\n",
    "        max_length = 0\n",
    "        col_letter = col[0].column_letter  # Get column letter (A, B, C, etc.)\n",
    "\n",
    "        for cell in col:\n",
    "            try:\n",
    "                if cell.value:\n",
    "                    max_length = max(max_length, len(str(cell.value)))  # Find max length in column\n",
    "            except:\n",
    "                pass\n",
    "\n",
    "        worksheet.column_dimensions[col_letter].width = max_length + 2  # Adjust column width\n",
    "\n",
    "    # Apply header styling\n",
    "    for cell in worksheet[1]:  # First row contains headers\n",
    "        cell.font = Font(bold=True, color=\"FFFFFF\")  # Bold white text\n",
    "        cell.alignment = Alignment(horizontal=\"center\")  # Center text\n",
    "        cell.fill = openpyxl.styles.PatternFill(start_color=\"4F81BD\", end_color=\"4F81BD\", fill_type=\"solid\")  # Blue background\n",
    "\n",
    "print(f\"Excel file '{filename}' saved successfully!\")"
   ]
  }
 ],
 "metadata": {
  "kernelspec": {
   "display_name": "Python 3",
   "language": "python",
   "name": "python3"
  },
  "language_info": {
   "codemirror_mode": {
    "name": "ipython",
    "version": 3
   },
   "file_extension": ".py",
   "mimetype": "text/x-python",
   "name": "python",
   "nbconvert_exporter": "python",
   "pygments_lexer": "ipython3",
   "version": "3.13.0"
  }
 },
 "nbformat": 4,
 "nbformat_minor": 2
}
